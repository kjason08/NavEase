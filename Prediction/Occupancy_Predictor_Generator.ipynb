{
 "cells": [
  {
   "cell_type": "code",
   "execution_count": null,
   "id": "de81a5e8-ffd0-4908-9826-be7c4fcbcaa3",
   "metadata": {},
   "outputs": [],
   "source": [
    "# Step 0. Import packages"
   ]
  },
  {
   "cell_type": "code",
   "execution_count": 7,
   "id": "8f519f86-5ae5-4370-97ef-f4e7e32be46d",
   "metadata": {},
   "outputs": [],
   "source": [
    "import pandas as pd\n",
    "import numpy as np\n",
    "\n",
    "from sklearn.model_selection import train_test_split as tts\n",
    "from sklearn.metrics import f1_score, roc_auc_score\n",
    "from sklearn.model_selection import cross_val_score\n",
    "from sklearn.metrics import auc, roc_curve, precision_recall_curve\n",
    "\n",
    "import xgboost as xgb\n",
    "from xgboost import plot_importance, plot_tree\n",
    "\n",
    "import matplotlib.pyplot as plt\n",
    "from matplotlib import rc\n",
    "\n",
    "import pickle\n",
    "import shap\n",
    "import os"
   ]
  },
  {
   "cell_type": "code",
   "execution_count": null,
   "id": "24c4ba02-723d-4384-b50c-b81147fb4fca",
   "metadata": {},
   "outputs": [],
   "source": [
    "# Step 1. Import the data (Repeat for each bus stop)"
   ]
  },
  {
   "cell_type": "code",
   "execution_count": 11,
   "id": "417671bd-452b-42a8-902e-0d5cbd2ffbcf",
   "metadata": {},
   "outputs": [],
   "source": [
    "#Load the Bus_Stop file\n",
    "path = './Bus_Stop/'\n",
    "file_list = os.listdir(path)\n",
    "file_list_py = [file for file in file_list if file.endswith('.csv')]\n",
    "\n",
    "#List to check performance\n",
    "bus_stop_list = []\n",
    "bus_number_list = []\n",
    "error_list = []\n",
    "\n",
    "#Make model for each file\n",
    "for i in file_list_py:\n",
    "    data = pd.read_csv(path + i, encoding = \"cp949\")\n",
    "    #Split the data\n",
    "    X = data.iloc[:,0:8] # Predictors (date, temperature, rain, snow, pm10, pm2.5, covid19, time, bus stop, bus number)\n",
    "    y = data.iloc[:,10] # Response (#people)\n",
    "    x_train, x_test, y_train, y_test = tts(X, y,test_size=0.2, random_state= 1)\n",
    "    params = {\n",
    "        \"eta\": 0.1,\n",
    "        \"max_depth\": 10\n",
    "    }\n",
    "    #Learning\n",
    "    fit_xgb = xgb.XGBRegressor(**params)\n",
    "    model = fit_xgb.fit(x_train, y_train)\n",
    "    #Set file name: busstop_line.pkl\n",
    "    bus_stop = str(data.loc[1,'BusStop'])\n",
    "    bus_number = str(data.loc[1,'BusNumber'])\n",
    "    file_name = bus_stop + '_' + bus_number + '.pkl'\n",
    "    #Save\n",
    "    dir_path = './Model/'\n",
    "    with open(os.path.join(dir_path, file_name), 'wb') as f:\n",
    "        pickle.dump(model, f)\n",
    "    #Model test\n",
    "    mean_absoulte_error = sum(abs(model.predict(x_test) - y_test))/len(y_test)\n",
    "    bus_stop_list.append(bus_stop)\n",
    "    bus_number_list.append(bus_number_list)\n",
    "    error_list.append(mean_absoulte_error)\n",
    "\n",
    "#Make data frame about performance\n",
    "pf_dict = {\"busStop\": bus_stop_list, \"busNumber\": bus_number_list, \"Error\": error_list}"
   ]
  },
  {
   "cell_type": "code",
   "execution_count": 15,
   "id": "414e9a99-779d-46db-96c6-354de5591e87",
   "metadata": {},
   "outputs": [],
   "source": [
    "pd_df = pd.DataFrame(pf_dict)\n",
    "pd_df.to_csv('./performance.csv')"
   ]
  },
  {
   "cell_type": "code",
   "execution_count": null,
   "id": "79900cf4-233b-4cda-a471-2a60d2d494c8",
   "metadata": {},
   "outputs": [],
   "source": []
  }
 ],
 "metadata": {
  "kernelspec": {
   "display_name": "anaconda-panel-2023.05-py310",
   "language": "python",
   "name": "conda-env-anaconda-panel-2023.05-py310-py"
  },
  "language_info": {
   "codemirror_mode": {
    "name": "ipython",
    "version": 3
   },
   "file_extension": ".py",
   "mimetype": "text/x-python",
   "name": "python",
   "nbconvert_exporter": "python",
   "pygments_lexer": "ipython3",
   "version": "3.11.5"
  }
 },
 "nbformat": 4,
 "nbformat_minor": 5
}
